{
 "cells": [
  {
   "cell_type": "code",
   "execution_count": null,
   "id": "f9f85a9b-0ade-4deb-82bd-5c2defb0705c",
   "metadata": {},
   "outputs": [],
   "source": [
    "# link service datalake Gen2\n",
    "\n",
    "\n",
    "{\n",
    "    \"name\": \"ls_datalakegen2\",\n",
    "    \"type\": \"Microsoft.DataFactory/factories/linkedservices\",\n",
    "    \"properties\": {\n",
    "        \"annotations\": [],\n",
    "        \"type\": \"AzureBlobFS\",\n",
    "        \"typeProperties\": {\n",
    "            \"url\": \"https://nycstoragemar.dfs.core.windows.net/\",\n",
    "            \"encryptedCredential\": \"ew0KICAiVmVyc2lvbiI6ICIyMDE3LTExLTMwIiwNCiAgIlByb3RlY3Rpb25Nb2RlIjogIktleSIsDQogICJTZWNyZXRDb250ZW50VHlwZSI6ICJQbGFpbnRleHQiLA0KICAiQ3JlZGVudGlhbElkIjogIkRBVEFGQUNUT1JZQDdDQjk4MzU3LUY3QTEtNEQxMS1CQzI3LTMyMTM1MDE1NTNDMF81MWZmYjExNy1hOTg0LTQxNzMtOWUwOS1kYzBiNDE4YzMwOGEiDQp9\"\n",
    "        }\n",
    "    }\n",
    "}"
   ]
  },
  {
   "cell_type": "code",
   "execution_count": 1,
   "id": "9134bc15-7e29-47c5-8007-955a7a019262",
   "metadata": {},
   "outputs": [],
   "source": [
    "# Link service SQL db\n",
    "\n",
    "{\n",
    "    \"name\": \"ls_sqldb\",\n",
    "    \"type\": \"Microsoft.DataFactory/factories/linkedservices\",\n",
    "    \"properties\": {\n",
    "        \"annotations\": [],\n",
    "        \"type\": \"AzureSqlDatabase\",\n",
    "        \"typeProperties\": {\n",
    "            \"server\": \"dbsqlmar.database.windows.net\",\n",
    "            \"database\": \"db_nycpayroll\",\n",
    "            \"encrypt\": \"mandatory\",\n",
    "            \"trustServerCertificate\": false,\n",
    "            \"authenticationType\": \"SQL\",\n",
    "            \"userName\": \"admsqlmar\",\n",
    "            \"encryptedCredential\": \"ew0KICAiVmVyc2lvbiI6ICIyMDE3LTExLTMwIiwNCiAgIlByb3RlY3Rpb25Nb2RlIjogIktleSIsDQogICJTZWNyZXRDb250ZW50VHlwZSI6ICJQbGFpbnRleHQiLA0KICAiQ3JlZGVudGlhbElkIjogIkRBVEFGQUNUT1JZQDdDQjk4MzU3LUY3QTEtNEQxMS1CQzI3LTMyMTM1MDE1NTNDMF9iNTFjZjE2MC00MmNiLTQzMDItOTAyNi1kYTkzNTJhNmIyMTIiDQp9\"\n",
    "        }\n",
    "    }\n",
    "}"
   ]
  },
  {
   "cell_type": "code",
   "execution_count": null,
   "id": "63917ac6-3b4f-44ef-bed1-0683751fe686",
   "metadata": {},
   "outputs": [],
   "source": []
  },
  {
   "cell_type": "code",
   "execution_count": null,
   "id": "4bab6097-587a-41e5-bda5-1301123891f8",
   "metadata": {},
   "outputs": [],
   "source": []
  }
 ],
 "metadata": {
  "kernelspec": {
   "display_name": "Python 3",
   "language": "python",
   "name": "python3"
  },
  "language_info": {
   "codemirror_mode": {
    "name": "ipython",
    "version": 3
   },
   "file_extension": ".py",
   "mimetype": "text/x-python",
   "name": "python",
   "nbconvert_exporter": "python",
   "pygments_lexer": "ipython3",
   "version": "3.8.7"
  }
 },
 "nbformat": 4,
 "nbformat_minor": 5
}
